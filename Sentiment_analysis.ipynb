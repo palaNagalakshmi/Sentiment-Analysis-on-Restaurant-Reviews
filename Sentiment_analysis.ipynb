{
 "cells": [
  {
   "cell_type": "code",
   "execution_count": null,
   "id": "e670f409-5bd0-48cf-abb8-ae19cc662a6d",
   "metadata": {},
   "outputs": [],
   "source": [
    "#import the data set and do the data preprocessing."
   ]
  },
  {
   "cell_type": "code",
   "execution_count": null,
   "id": "26290063-9c5a-4c42-b0f1-12b0207eb7cc",
   "metadata": {},
   "outputs": [],
   "source": [
    "#Problem statement\n",
    "#Develop a sentement analysis model to classify reviews as positive or negative.\n",
    "#Preprocess the review text using techniques such as lower casing,removing stop words and Lemmatization.\n",
    "#use the trained model accurately predict the sentiment of new,unseen reviews."
   ]
  },
  {
   "cell_type": "code",
   "execution_count": null,
   "id": "cf302539-cc76-4a15-8304-e25ed7467f52",
   "metadata": {},
   "outputs": [],
   "source": [
    "import pandas as pd"
   ]
  },
  {
   "cell_type": "code",
   "execution_count": null,
   "id": "5cc05a15-ed5a-448e-87d2-0b2585f1a13d",
   "metadata": {},
   "outputs": [],
   "source": [
    "data=pd.read_csv('Reviews.csv')"
   ]
  },
  {
   "cell_type": "code",
   "execution_count": null,
   "id": "ea40df88-1b9e-4404-9375-8d4f11a3de96",
   "metadata": {},
   "outputs": [],
   "source": [
    "print(data)"
   ]
  },
  {
   "cell_type": "code",
   "execution_count": null,
   "id": "e18771af-bcf9-4b60-bb66-29b1a67ebdbf",
   "metadata": {},
   "outputs": [],
   "source": [
    "data"
   ]
  },
  {
   "cell_type": "code",
   "execution_count": null,
   "id": "92efa2e5-21b6-438b-b16f-c8dab9a1d3af",
   "metadata": {},
   "outputs": [],
   "source": [
    "#we can review the top 5 rows\n",
    "data.head()\n"
   ]
  },
  {
   "cell_type": "code",
   "execution_count": null,
   "id": "2c396a18-babb-4ef2-9f85-cd3c69c726f4",
   "metadata": {},
   "outputs": [],
   "source": [
    "#top 10 rows\n",
    "data.head(10)"
   ]
  },
  {
   "cell_type": "code",
   "execution_count": null,
   "id": "f5f5f4af-e311-4a83-9d0e-b308ca9a72c5",
   "metadata": {},
   "outputs": [],
   "source": [
    "#last 5 rows\n",
    "data.tail()"
   ]
  },
  {
   "cell_type": "code",
   "execution_count": null,
   "id": "3d3a5247-0bb4-4e8a-b096-21c3c0359d3d",
   "metadata": {},
   "outputs": [],
   "source": [
    "#last 10 rows\n",
    "data.tail(10)"
   ]
  },
  {
   "cell_type": "code",
   "execution_count": null,
   "id": "2902fd6f-568a-4d2b-91be-8d33ea0e0f5e",
   "metadata": {},
   "outputs": [],
   "source": [
    "data.info()#data set info like data types,entries of dataset,memory usage."
   ]
  },
  {
   "cell_type": "code",
   "execution_count": null,
   "id": "5efee6a0-871a-44cc-bd76-4bb5e0f5d8e3",
   "metadata": {},
   "outputs": [],
   "source": [
    "data.isnull.sum()#checking the null values."
   ]
  },
  {
   "cell_type": "code",
   "execution_count": null,
   "id": "ca6dac31-5ea7-4767-82f1-9b1bd0f7f8ad",
   "metadata": {},
   "outputs": [],
   "source": [
    "data.duplicated()#checking the duplicated values."
   ]
  },
  {
   "cell_type": "code",
   "execution_count": null,
   "id": "850d99cc-3037-41a9-a8ee-11a5d03bd201",
   "metadata": {},
   "outputs": [],
   "source": [
    "import seaborn as sns\n",
    "import matplotlib.pyplot as plt"
   ]
  },
  {
   "cell_type": "code",
   "execution_count": null,
   "id": "739ae64d-c888-4041-a7ab-019bb4fdab18",
   "metadata": {},
   "outputs": [],
   "source": [
    "from wordcloud import WordCloud"
   ]
  },
  {
   "cell_type": "code",
   "execution_count": null,
   "id": "e012cd1c-aaba-4aed-9a51-574db3ee3094",
   "metadata": {},
   "outputs": [],
   "source": [
    "combined_text=\" \".join(data['Review'])#combine all review text into one string."
   ]
  },
  {
   "cell_type": "code",
   "execution_count": null,
   "id": "1759aa70-bd73-49cd-9034-bed4b5021d8e",
   "metadata": {},
   "outputs": [],
   "source": [
    "wordcloud=WordCloud(width=800,height=400,background_color='white').generate(combined_text)"
   ]
  },
  {
   "cell_type": "code",
   "execution_count": null,
   "id": "ed1e12a2-4fcb-4ab6-9851-499d48810633",
   "metadata": {},
   "outputs": [],
   "source": [
    "#plot the word cloud\n",
    "plt.figure(figsize=(10,6))\n",
    "plt.imshow(wordcloud,interpolation='bilinear')\n",
    "plt.axis('off')\n",
    "plt.title('Word cloud of review')\n",
    "plt.show()"
   ]
  },
  {
   "cell_type": "code",
   "execution_count": 21,
   "id": "678ac182-d151-4131-b702-1de6c8c6d298",
   "metadata": {},
   "outputs": [],
   "source": [
    "from collections import Counter"
   ]
  },
  {
   "cell_type": "code",
   "execution_count": null,
   "id": "e6a2de14-d371-4f37-b19e-303148c51bf0",
   "metadata": {},
   "outputs": [],
   "source": [
    "targeted_words=['good','great','amazing','bad','not bad']\n",
    "all_words=\" \".join(data['Review']).lower().split()#flatten reviews into a single list of words\n",
    "word_counts=Counter(all_words)\n",
    "target_word_count={word:word_counts[word] for word in targeted_words}"
   ]
  },
  {
   "cell_type": "code",
   "execution_count": null,
   "id": "cf2e4c19-759a-4388-bdd9-c0c83a601fcc",
   "metadata": {},
   "outputs": [],
   "source": [
    "#plotting\n",
    "plt.figure(figsize=(8,6))\n",
    "plt.bar(target_word_count.keys(),target_word_counts.values,color=['blue','green','orange','red','yellow'])\n",
    "plt.xlabel('Words')\n",
    "plt.ylabel('Frequency')\n",
    "plt.title('Freqency of specific words in review')      \n",
    "plt.show()"
   ]
  }
 ],
 "metadata": {
  "kernelspec": {
   "display_name": "Python 3 (ipykernel)",
   "language": "python",
   "name": "python3"
  },
  "language_info": {
   "codemirror_mode": {
    "name": "ipython",
    "version": 3
   },
   "file_extension": ".py",
   "mimetype": "text/x-python",
   "name": "python",
   "nbconvert_exporter": "python",
   "pygments_lexer": "ipython3",
   "version": "3.9.5"
  }
 },
 "nbformat": 4,
 "nbformat_minor": 5
}
